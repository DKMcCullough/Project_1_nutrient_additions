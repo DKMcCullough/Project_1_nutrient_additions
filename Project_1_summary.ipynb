{
 "cells": [
  {
   "cell_type": "markdown",
   "id": "f54f72be",
   "metadata": {},
   "source": [
    "# Project 1 : Nutrient Additions\n"
   ]
  },
  {
   "cell_type": "markdown",
   "id": "4fa2ff85",
   "metadata": {},
   "source": [
    "### Description: "
   ]
  },
  {
   "cell_type": "markdown",
   "id": "525539c1",
   "metadata": {},
   "source": [
    "Data: These data are from BCC NH4 addition experiements involving Prochlorococcus MIT9215 grown in AMP (artificial seawater medium) under various NH4 treatment groups. 2 biological and 3 technical replicates combine for a total of six Prochlorococcus cell abundance measures via flow cytometry per a chosen time time point. (This was originally done to determine the concentration of nitrogen contaminating our artificial seawater. We are using this data to examine how NH4 concentration affects the batch culture dynamics of Prochlorococcus.) "
   ]
  },
  {
   "cell_type": "markdown",
   "id": "646d73f0",
   "metadata": {},
   "source": [
    " Goal: Import and visualise all treatments of NH4 addition experients in MIT9215. Empirically modeling said is next. "
   ]
  },
  {
   "cell_type": "markdown",
   "id": "b73c19be",
   "metadata": {},
   "source": [
    "### Import data "
   ]
  },
  {
   "cell_type": "code",
   "execution_count": 8,
   "id": "a0041277",
   "metadata": {},
   "outputs": [],
   "source": [
    "import pandas as pd\n",
    "import numpy as np\n",
    "from matplotlib import *\n",
    "import matplotlib.pyplot as plt\n",
    "from scipy.integrate import *\n",
    "from scipy import *\n",
    "from pylab import *"
   ]
  },
  {
   "cell_type": "code",
   "execution_count": 3,
   "id": "11b6ee14",
   "metadata": {
    "scrolled": true
   },
   "outputs": [
    {
     "name": "stdout",
     "output_type": "stream",
     "text": [
      "         id  Time(days)  logscale  org  control   strain         rep1  \\\n",
      "0   NH4_add           0     False  Pro     True  MIT9215       9070.0   \n",
      "1   NH4_add           1     False  Pro     True  MIT9215      14700.0   \n",
      "2   NH4_add           4     False  Pro     True  MIT9215      51300.0   \n",
      "3   NH4_add           5     False  Pro     True  MIT9215      77000.0   \n",
      "4   NH4_add           7     False  Pro     True  MIT9215     184000.0   \n",
      "..      ...         ...       ...  ...      ...      ...          ...   \n",
      "73  NH4_add          15     False  Pro    False  MIT9215    4810000.0   \n",
      "74  NH4_add          18     False  Pro    False  MIT9215   20400000.0   \n",
      "75  NH4_add          19     False  Pro    False  MIT9215   31000000.0   \n",
      "76  NH4_add          25     False  Pro    False  MIT9215  221535830.4   \n",
      "77  NH4_add          34     False  Pro    False  MIT9215  164413591.5   \n",
      "\n",
      "           rep2         rep3         rep4  ...  Unnamed: 64  Unnamed: 65  \\\n",
      "0       14200.0      12800.0      10600.0  ...          NaN          NaN   \n",
      "1       13000.0      18000.0      14300.0  ...          NaN          NaN   \n",
      "2       52200.0      45800.0      45400.0  ...          NaN          NaN   \n",
      "3       81000.0      55300.0      53900.0  ...          NaN          NaN   \n",
      "4      176000.0      75600.0      72800.0  ...          NaN          NaN   \n",
      "..          ...          ...          ...  ...          ...          ...   \n",
      "73    5270000.0    3520000.0    3450000.0  ...          NaN          NaN   \n",
      "74   19100000.0   12600000.0   11000000.0  ...          NaN          NaN   \n",
      "75   32100000.0   17900000.0   19000000.0  ...          NaN          NaN   \n",
      "76  238456812.4  130192822.1  138294950.5  ...          NaN          NaN   \n",
      "77  132435790.9  257426458.0  200750922.9  ...          NaN          NaN   \n",
      "\n",
      "    Unnamed: 66 Unnamed: 67 Unnamed: 68  Unnamed: 69  Unnamed: 70  \\\n",
      "0           NaN         NaN         NaN          NaN          NaN   \n",
      "1           NaN         NaN         NaN          NaN          NaN   \n",
      "2           NaN         NaN         NaN          NaN          NaN   \n",
      "3           NaN         NaN         NaN          NaN          NaN   \n",
      "4           NaN         NaN         NaN          NaN          NaN   \n",
      "..          ...         ...         ...          ...          ...   \n",
      "73          NaN         NaN         NaN          NaN          NaN   \n",
      "74          NaN         NaN         NaN          NaN          NaN   \n",
      "75          NaN         NaN         NaN          NaN          NaN   \n",
      "76          NaN         NaN         NaN          NaN          NaN   \n",
      "77          NaN         NaN         NaN          NaN          NaN   \n",
      "\n",
      "    Unnamed: 71  Unnamed: 72  Unnamed: 73  \n",
      "0           NaN          NaN          NaN  \n",
      "1           NaN          NaN          NaN  \n",
      "2           NaN          NaN          NaN  \n",
      "3           NaN          NaN          NaN  \n",
      "4           NaN          NaN          NaN  \n",
      "..          ...          ...          ...  \n",
      "73          NaN          NaN          NaN  \n",
      "74          NaN          NaN          NaN  \n",
      "75          NaN          NaN          NaN  \n",
      "76          NaN          NaN          NaN  \n",
      "77          NaN          NaN          NaN  \n",
      "\n",
      "[78 rows x 74 columns]\n"
     ]
    }
   ],
   "source": [
    "df_all = pd.read_csv(\"/Users/dkm/Documents/Talmy_research/Zinser_and_Ben/Project_1_nutrient_additions/data/NH4_add.csv\")\n",
    "\n",
    "print(df_all)"
   ]
  },
  {
   "cell_type": "markdown",
   "id": "c5075809",
   "metadata": {},
   "source": [
    "### Reformat Data"
   ]
  },
  {
   "cell_type": "code",
   "execution_count": 4,
   "id": "4ae401b7",
   "metadata": {},
   "outputs": [
    {
     "name": "stdout",
     "output_type": "stream",
     "text": [
      "         id  Time(days)  logscale  org  control   strain         rep1  \\\n",
      "0   NH4_add           0     False  Pro     True  MIT9215       9070.0   \n",
      "1   NH4_add           1     False  Pro     True  MIT9215      14700.0   \n",
      "2   NH4_add           4     False  Pro     True  MIT9215      51300.0   \n",
      "3   NH4_add           5     False  Pro     True  MIT9215      77000.0   \n",
      "4   NH4_add           7     False  Pro     True  MIT9215     184000.0   \n",
      "..      ...         ...       ...  ...      ...      ...          ...   \n",
      "73  NH4_add          15     False  Pro    False  MIT9215    4810000.0   \n",
      "74  NH4_add          18     False  Pro    False  MIT9215   20400000.0   \n",
      "75  NH4_add          19     False  Pro    False  MIT9215   31000000.0   \n",
      "76  NH4_add          25     False  Pro    False  MIT9215  221535830.4   \n",
      "77  NH4_add          34     False  Pro    False  MIT9215  164413591.5   \n",
      "\n",
      "           rep2         rep3         rep4         rep5         rep6  \\\n",
      "0       14200.0      12800.0      10600.0      11800.0      11500.0   \n",
      "1       13000.0      18000.0      14300.0      14300.0      16900.0   \n",
      "2       52200.0      45800.0      45400.0      56200.0      54300.0   \n",
      "3       81000.0      55300.0      53900.0      82000.0      79300.0   \n",
      "4      176000.0      75600.0      72800.0     172000.0     179000.0   \n",
      "..          ...          ...          ...          ...          ...   \n",
      "73    5270000.0    3520000.0    3450000.0    4180000.0    4090000.0   \n",
      "74   19100000.0   12600000.0   11000000.0   12600000.0   11000000.0   \n",
      "75   32100000.0   17900000.0   19000000.0   26100000.0   28800000.0   \n",
      "76  238456812.4  130192822.1  138294950.5  219585584.9  207598262.5   \n",
      "77  132435790.9  257426458.0  200750922.9  210651657.6  195220649.8   \n",
      "\n",
      "    treatment method oriSource  \n",
      "0           0   flow       BCC  \n",
      "1           0   flow       BCC  \n",
      "2           0   flow       BCC  \n",
      "3           0   flow       BCC  \n",
      "4           0   flow       BCC  \n",
      "..        ...    ...       ...  \n",
      "73     400000   flow       BCC  \n",
      "74     400000   flow       BCC  \n",
      "75     400000   flow       BCC  \n",
      "76     400000   flow       BCC  \n",
      "77     400000   flow       BCC  \n",
      "\n",
      "[78 rows x 15 columns]\n"
     ]
    }
   ],
   "source": [
    "df_all['rep1'] = df_all['rep1'].fillna(value = 0.0) #filling Nans with 09.0 in 'rep1' column \n",
    "df_all['rep2'] = df_all['rep2'].fillna(value = 0.0 )#filling Nans with 09.0 in 'rep2' column \n",
    "\n",
    "\n",
    "\n",
    "df_all = df_all.dropna(axis = 1)     #taking NaN columns off the end of df but had to fill rep 1 and 2 Nans first\n",
    "\n",
    "print(df_all)\n",
    "\n"
   ]
  },
  {
   "cell_type": "code",
   "execution_count": 5,
   "id": "ce60031d",
   "metadata": {},
   "outputs": [
    {
     "name": "stdout",
     "output_type": "stream",
     "text": [
      "0         13\n",
      "40        13\n",
      "400       13\n",
      "4000      13\n",
      "40000     13\n",
      "400000    13\n",
      "Name: treatment, dtype: int64\n"
     ]
    }
   ],
   "source": [
    "df_all = df_all.rename({'Time(days)':'times'}, axis=1)    #'renaming column to make it callable by 'times'\n",
    "\n",
    "####################################\n",
    "\n",
    "# Slicing Data\n",
    "\n",
    "####################################\n",
    "\n",
    "print(df_all['treatment'].value_counts())   #finding how many uniquie counts (different treatments) there are and the number of each\n",
    "\n",
    "#df_smol = df_all[df_all[\"treatment\"].isin([0,40])]\n",
    "df_0 = df_all[df_all[\"treatment\"].isin([0])]\n",
    "df_40 = df_all[df_all[\"treatment\"].isin([40])]\n",
    "df_400 = df_all[df_all[\"treatment\"].isin([400])]\n",
    "df_4000 = df_all[df_all[\"treatment\"].isin([4000])]\n",
    "df_40000 =  df_all[df_all[\"treatment\"].isin([40000])]\n",
    "df_400000 = df_all[df_all[\"treatment\"].isin([400000])]\n",
    "\n",
    "\n",
    "rep_cols = ['rep1', 'rep2', 'rep3', 'rep4', 'rep5', 'rep6']     # columns of just replicate assay abundance values\n",
    "avg_0 = df_0[rep_cols].mean(axis=1) #takes mean value across rep1-6 column first each row\n",
    "avg_40 = df_40[rep_cols].mean(axis=1)\n",
    "avg_400 = df_400[rep_cols].mean(axis=1)\n",
    "avg_4000 = df_4000[rep_cols].mean(axis=1)\n",
    "avg_40000 = df_40000[rep_cols].mean(axis=1)\n",
    "avg_400000 = df_400000[rep_cols].mean(axis=1) \n",
    "\n"
   ]
  },
  {
   "cell_type": "markdown",
   "id": "500b8f68",
   "metadata": {},
   "source": [
    "## Visualize data "
   ]
  },
  {
   "cell_type": "code",
   "execution_count": 6,
   "id": "9621f71f",
   "metadata": {},
   "outputs": [
    {
     "data": {
      "text/plain": [
       "Text(0, 0.5, 'Cell Abundance (flow)')"
      ]
     },
     "execution_count": 6,
     "metadata": {},
     "output_type": "execute_result"
    },
    {
     "data": {
      "image/png": "[encoded data removed]",
      "text/plain": [
       "<Figure size 1008x1008 with 1 Axes>"
      ]
     },
     "metadata": {
      "needs_background": "light"
     },
     "output_type": "display_data"
    }
   ],
   "source": [
    "\n",
    "fig , ax = plt.subplots(sharex=True, sharey=True, figsize=(14,14)) \n",
    "plt.scatter(x = df_0['times'], y = [avg_0], label = '0 NH4 added')\n",
    "plt.scatter(x = df_40['times'], y = [avg_40], label = '40 NH4 added')\n",
    "plt.scatter(x = df_400['times'], y = [avg_400], label = '400 NH4 added')\n",
    "plt.scatter(x = df_4000['times'], y = [avg_4000], label = '4000 NH4 added')\n",
    "plt.scatter(x = df_40000['times'], y = [avg_40000], label = '40000 NH4 added')\n",
    "plt.scatter(x = df_400000['times'], y = [avg_400000], label = '400000 NH4 added') \n",
    "plt.semilogy()\n",
    "\n",
    "plt.legend(fontsize = '14')\n",
    "plt.title('NH4 additions to MIT9215 Pro', fontsize = '22')\n",
    "plt.xlabel('Time',fontsize = '18')\n",
    "#plt.legend(prop={\"size\":14})\n",
    "plt.ylabel('Cell Abundance (flow)',fontsize = '18')\n",
    "#plt.xticks(fontsize = 14) \n",
    "#plt.yticks(fontsize = 14)\n",
    "\n"
   ]
  },
  {
   "cell_type": "markdown",
   "id": "5d851435",
   "metadata": {},
   "source": [
    "caveat: These data are currently averaged (accross 6 replicates each) abundance values of the same strain of Pro over time. "
   ]
  },
  {
   "cell_type": "markdown",
   "id": "21268c93",
   "metadata": {},
   "source": [
    "**Thoughts on this data set:** \n",
    "\n",
    " - Not sure if this slicing (putting reps in different columns to prep for being able to use with ODElib) method is causing more issues than it is worth? Currently making it difficult to use anything other than the mean b/c averaging accross the reps is not currentlty not going too well. "
   ]
  },
  {
   "cell_type": "markdown",
   "id": "7e562d88",
   "metadata": {},
   "source": [
    "**Hypotheses:**\n",
    "\n",
    "- The front half of the above figure will be recoverable either, when alpha is kept constant but starting N concentration is taken from the treatment concentration, or when starting N concentration is held steady and the alpha of the treatments is allowed to differ. (See Project 4 jupyter notebook.) \n",
    "- Will need to include the delta value of this microbe in our model to fit the back half of this data set. (Increased cell death via increase delta value will be required to explain the differential death kinetics seen above. (Past time 20) "
   ]
  },
  {
   "cell_type": "code",
   "execution_count": null,
   "id": "2fe64bbc",
   "metadata": {
    "scrolled": true
   },
   "outputs": [],
   "source": []
  },
  {
   "cell_type": "code",
   "execution_count": null,
   "id": "f43039b8",
   "metadata": {},
   "outputs": [],
   "source": []
  },
  {
   "cell_type": "code",
   "execution_count": null,
   "id": "9be2b0d8",
   "metadata": {},
   "outputs": [],
   "source": []
  }
 ],
 "metadata": {
  "kernelspec": {
   "display_name": "Python 3 (ipykernel)",
   "language": "python",
   "name": "python3"
  },
  "language_info": {
   "codemirror_mode": {
    "name": "ipython",
    "version": 3
   },
   "file_extension": ".py",
   "mimetype": "text/x-python",
   "name": "python",
   "nbconvert_exporter": "python",
   "pygments_lexer": "ipython3",
   "version": "3.7.2"
  }
 },
 "nbformat": 4,
 "nbformat_minor": 5
}
